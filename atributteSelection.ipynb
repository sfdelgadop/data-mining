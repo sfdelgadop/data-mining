{
 "cells": [
  {
   "cell_type": "code",
   "execution_count": 11,
   "metadata": {
    "collapsed": true
   },
   "outputs": [],
   "source": [
    "import pandas as pd\n",
    "import numpy as np\n",
    "import math"
   ]
  },
  {
   "cell_type": "code",
   "execution_count": 7,
   "outputs": [],
   "source": [
    "data = pd.read_csv('withoutnil.csv')"
   ],
   "metadata": {
    "collapsed": false,
    "pycharm": {
     "name": "#%%\n"
    }
   }
  },
  {
   "cell_type": "code",
   "execution_count": 8,
   "outputs": [
    {
     "name": "stdout",
     "output_type": "stream",
     "text": [
      "        Unnamed: 0 ESTU_TIPODOCUMENTO ESTU_NACIONALIDAD ESTU_GENERO  \\\n",
      "0                0                 TI             SUIZA           F   \n",
      "1                1                PEP         VENEZUELA           M   \n",
      "2                2                 TI         VENEZUELA           F   \n",
      "3                3                 CE         VENEZUELA           M   \n",
      "4                4                 TI          COLOMBIA           F   \n",
      "...            ...                ...               ...         ...   \n",
      "504867      504867                 TI          COLOMBIA           M   \n",
      "504868      504868                 CC          COLOMBIA           M   \n",
      "504869      504869                 TI          COLOMBIA           F   \n",
      "504870      504870                 TI          COLOMBIA           M   \n",
      "504871      504871                 TI          COLOMBIA           F   \n",
      "\n",
      "          ESTU_FECHANACIMIENTO  PERIODO  ESTU_CONSECUTIVO ESTU_ESTUDIANTE  \\\n",
      "0       03/03/2003 12:00:00 AM    20204  SB11202040211436      ESTUDIANTE   \n",
      "1       05/10/2002 12:00:00 AM    20204  SB11202040433216      ESTUDIANTE   \n",
      "2       12/14/2003 12:00:00 AM    20204  SB11202040244180      ESTUDIANTE   \n",
      "3       04/12/2003 12:00:00 AM    20204  SB11202040210971      ESTUDIANTE   \n",
      "4       03/03/2004 12:00:00 AM    20204  SB11202040235382      ESTUDIANTE   \n",
      "...                        ...      ...               ...             ...   \n",
      "504867  12/26/2003 12:00:00 AM    20204  SB11202040105446      ESTUDIANTE   \n",
      "504868  10/27/1996 12:00:00 AM    20204  SB11202040168415      ESTUDIANTE   \n",
      "504869  01/14/2005 12:00:00 AM    20204  SB11202040185843      ESTUDIANTE   \n",
      "504870  06/14/2002 12:00:00 AM    20204  SB11202040168607      ESTUDIANTE   \n",
      "504871  02/20/2002 12:00:00 AM    20204  SB11202040525571      ESTUDIANTE   \n",
      "\n",
      "       ESTU_PAIS_RESIDE ESTU_TIENEETNIA  ... PUNT_INGLES  PERCENTIL_INGLES  \\\n",
      "0                 SUIZA              No  ...        55.0                81   \n",
      "1             VENEZUELA              No  ...        33.0                 6   \n",
      "2             VENEZUELA              No  ...        59.0                87   \n",
      "3             VENEZUELA              No  ...        47.0                58   \n",
      "4              COLOMBIA              No  ...        43.0                40   \n",
      "...                 ...             ...  ...         ...               ...   \n",
      "504867         COLOMBIA              No  ...        45.0                52   \n",
      "504868         COLOMBIA              No  ...        54.0                79   \n",
      "504869         COLOMBIA              No  ...        67.0                93   \n",
      "504870         COLOMBIA              No  ...        52.0                75   \n",
      "504871         COLOMBIA              No  ...        48.0                63   \n",
      "\n",
      "       DESEMP_INGLES  PUNT_GLOBAL PERCENTIL_GLOBAL ESTU_INSE_INDIVIDUAL  \\\n",
      "0                 A1          244               49            54.882365   \n",
      "1                 A-          238               44            49.252311   \n",
      "2                 A2          325               94            40.733672   \n",
      "3                 A-          238               45            48.217953   \n",
      "4                 A-          202               19            60.912192   \n",
      "...              ...          ...              ...                  ...   \n",
      "504867            A-          282               75            45.311449   \n",
      "504868            A1          257               59            38.124729   \n",
      "504869            A2          330               95            53.586443   \n",
      "504870            A1          290               80            58.316936   \n",
      "504871            A1          261               61            57.375730   \n",
      "\n",
      "       ESTU_NSE_INDIVIDUAL ESTU_NSE_ESTABLECIMIENTO ESTU_ESTADOINVESTIGACION  \\\n",
      "0                      3.0                      3.0                 PUBLICAR   \n",
      "1                      2.0                      2.0                 PUBLICAR   \n",
      "2                      1.0                      3.0                 PUBLICAR   \n",
      "3                      2.0                      3.0                 PUBLICAR   \n",
      "4                      3.0                      3.0                 PUBLICAR   \n",
      "...                    ...                      ...                      ...   \n",
      "504867                 2.0                      2.0                 PUBLICAR   \n",
      "504868                 1.0                      3.0                 PUBLICAR   \n",
      "504869                 3.0                      3.0                 PUBLICAR   \n",
      "504870                 3.0                      3.0                 PUBLICAR   \n",
      "504871                 3.0                      3.0                 PUBLICAR   \n",
      "\n",
      "               ESTU_GENERACION-E  \n",
      "0                             NO  \n",
      "1                             NO  \n",
      "2       GENERACION E - GRATUIDAD  \n",
      "3                             NO  \n",
      "4                             NO  \n",
      "...                          ...  \n",
      "504867                        NO  \n",
      "504868                        NO  \n",
      "504869                        NO  \n",
      "504870                        NO  \n",
      "504871  GENERACION E - GRATUIDAD  \n",
      "\n",
      "[504872 rows x 82 columns]\n"
     ]
    }
   ],
   "source": [
    "print(data)"
   ],
   "metadata": {
    "collapsed": false,
    "pycharm": {
     "name": "#%%\n"
    }
   }
  },
  {
   "cell_type": "code",
   "execution_count": 9,
   "outputs": [
    {
     "name": "stdout",
     "output_type": "stream",
     "text": [
      "Index([], dtype='object')\n"
     ]
    }
   ],
   "source": [
    "null_columns=data.columns[data.isnull().any()]\n",
    "print(null_columns)"
   ],
   "metadata": {
    "collapsed": false,
    "pycharm": {
     "name": "#%%\n"
    }
   }
  },
  {
   "cell_type": "code",
   "execution_count": 72,
   "outputs": [],
   "source": [
    "def simMatrix(x):\n",
    "  sim = np.zeros([len(x),len(x)],dtype=np.uint32)\n",
    "  for i in range( len(x)-1):\n",
    "    for j in range(i+1,len(x)):\n",
    "      n = np.nonzero((x[i] == x[j]) == True)\n",
    "      sim[i][j] = len(n[0])\n",
    "  return sim/len(x[0])\n",
    "\n",
    "def ent(sim):\n",
    "  entro = 0\n",
    "  for i in range( len(sim)-1):\n",
    "    for j in range(i+1,len(sim)):\n",
    "      if sim[i][j] != 0:\n",
    "        entro += sim[i][j] * math.log(sim[i][j]) + (1 - sim[i][j]) * math.log(sim[i][j])\n",
    "  return -entro"
   ],
   "metadata": {
    "collapsed": false,
    "pycharm": {
     "name": "#%%\n"
    }
   }
  },
  {
   "cell_type": "code",
   "execution_count": 241,
   "outputs": [
    {
     "name": "stdout",
     "output_type": "stream",
     "text": [
      "[[0.         0.77966102 0.79661017 ... 0.3220339  0.38983051 0.38983051]\n",
      " [0.         0.         0.77966102 ... 0.3559322  0.3220339  0.44067797]\n",
      " [0.         0.         0.         ... 0.30508475 0.28813559 0.3559322 ]\n",
      " ...\n",
      " [0.         0.         0.         ... 0.         0.55932203 0.66101695]\n",
      " [0.         0.         0.         ... 0.         0.         0.55932203]\n",
      " [0.         0.         0.         ... 0.         0.         0.        ]]\n"
     ]
    }
   ],
   "source": [
    "features = np.arange(1,60)\n",
    "sub_data = np.array(data[200000:201000])\n",
    "print(simMatrix(sub_data[:,features]))"
   ],
   "metadata": {
    "collapsed": false,
    "pycharm": {
     "name": "#%%\n"
    }
   }
  },
  {
   "cell_type": "code",
   "execution_count": 242,
   "outputs": [
    {
     "name": "stdout",
     "output_type": "stream",
     "text": [
      "478669.15646013984\n"
     ]
    }
   ],
   "source": [
    "total = ent(simMatrix(sub_data[:,features]))\n",
    "print(total)"
   ],
   "metadata": {
    "collapsed": false,
    "pycharm": {
     "name": "#%%\n"
    }
   }
  },
  {
   "cell_type": "code",
   "execution_count": 243,
   "outputs": [],
   "source": [
    "list = []\n",
    "for i in range(len(features)):\n",
    "    new = np.array(np.append(features[:i],features[i+1:]))\n",
    "    list.append((features[i], total - ent(simMatrix(sub_data[:,new]))))\n",
    "#    print(new)"
   ],
   "metadata": {
    "collapsed": false,
    "pycharm": {
     "name": "#%%\n"
    }
   }
  },
  {
   "cell_type": "code",
   "execution_count": 244,
   "outputs": [
    {
     "name": "stdout",
     "output_type": "stream",
     "text": [
      "[(1, -8456.667550367827), (2, -14364.845082507469), (3, -2692.411954826268), (4, 8520.166484760004), (5, -14364.845082507469), (6, 8538.66946398199), (7, -14364.845082507469), (8, -14364.845082507469), (9, -9904.770200206607), (10, 7493.75776281039), (11, 7493.75776281039), (12, 8312.454132954997), (13, 8312.454132954997), (14, 2009.1972885039868), (15, 669.1315958055784), (16, 1824.2784291250282), (17, 5367.1928328781505), (18, 5070.731468148646), (19, 5934.760536852875), (20, 3172.2663197399233), (21, -3281.011013716925), (22, -4539.770540673868), (23, -2684.0234818144236), (24, -5413.43494419253), (25, -2960.661160447693), (26, -5547.904705016175), (27, -2697.3583860827493), (28, -7687.622611505911), (29, 1063.4257279979647), (30, 2107.1867383299978), (31, 1652.1169879378867), (32, 1893.0720591846039), (33, -1436.8480497261626), (34, 2304.7119595062686), (35, 3355.7401172494283), (36, -503.12543935049325), (37, -2950.494395520771), (38, 8478.983106065076), (39, 8463.197457634844), (40, 8461.546805164078), (41, -12674.989124755259), (42, -7346.739496633585), (43, -14223.427982103138), (44, -13441.326270035177), (45, -449.1578029093216), (46, 8470.20405546669), (47, 8470.20405546669), (48, -12005.974504693877), (49, -7491.089667939872), (50, 2366.2209306355217), (51, 8311.436783573765), (52, 8311.436783573765), (53, 7489.998135454487), (54, 7489.998135454487), (55, -14364.845082507469), (56, 8272.67986668495), (57, 8272.67986668495), (58, 7499.566619322926), (59, 7499.566619322926)]\n"
     ]
    }
   ],
   "source": [
    "print(list)\n"
   ],
   "metadata": {
    "collapsed": false,
    "pycharm": {
     "name": "#%%\n"
    }
   }
  },
  {
   "cell_type": "code",
   "execution_count": 245,
   "outputs": [
    {
     "name": "stdout",
     "output_type": "stream",
     "text": [
      "[( 2, -14364.84508251) ( 5, -14364.84508251) ( 7, -14364.84508251)\n",
      " ( 8, -14364.84508251) (55, -14364.84508251) (43, -14223.4279821 )\n",
      " (44, -13441.32627004) (41, -12674.98912476) (48, -12005.97450469)\n",
      " ( 9,  -9904.77020021) ( 1,  -8456.66755037) (28,  -7687.62261151)\n",
      " (49,  -7491.08966794) (42,  -7346.73949663) (26,  -5547.90470502)\n",
      " (24,  -5413.43494419) (22,  -4539.77054067) (21,  -3281.01101372)\n",
      " (25,  -2960.66116045) (37,  -2950.49439552) (27,  -2697.35838608)\n",
      " ( 3,  -2692.41195483) (23,  -2684.02348181) (33,  -1436.84804973)\n",
      " (36,   -503.12543935) (45,   -449.15780291) (15,    669.13159581)\n",
      " (29,   1063.425728  ) (31,   1652.11698794) (16,   1824.27842913)\n",
      " (32,   1893.07205918) (14,   2009.1972885 ) (30,   2107.18673833)\n",
      " (34,   2304.71195951) (50,   2366.22093064) (20,   3172.26631974)\n",
      " (35,   3355.74011725) (18,   5070.73146815) (17,   5367.19283288)\n",
      " (19,   5934.76053685) (53,   7489.99813545) (54,   7489.99813545)\n",
      " (10,   7493.75776281) (11,   7493.75776281) (58,   7499.56661932)\n",
      " (59,   7499.56661932) (56,   8272.67986668) (57,   8272.67986668)\n",
      " (51,   8311.43678357) (52,   8311.43678357) (12,   8312.45413295)\n",
      " (13,   8312.45413295) (40,   8461.54680516) (39,   8463.19745763)\n",
      " (46,   8470.20405547) (47,   8470.20405547) (38,   8478.98310607)\n",
      " ( 4,   8520.16648476) ( 6,   8538.66946398)]\n"
     ]
    }
   ],
   "source": [
    "dtype = [('feaure',int),('value',float)]\n",
    "\n",
    "a = np.array(list,dtype=dtype)\n",
    "a = np.sort(a, order='value')\n",
    "print(a)"
   ],
   "metadata": {
    "collapsed": false,
    "pycharm": {
     "name": "#%%\n"
    }
   }
  },
  {
   "cell_type": "code",
   "execution_count": 246,
   "outputs": [
    {
     "name": "stdout",
     "output_type": "stream",
     "text": [
      "ESTU_NACIONALIDAD\n",
      "PERIODO\n",
      "ESTU_ESTUDIANTE\n",
      "ESTU_PAIS_RESIDE\n",
      "ESTU_PRIVADO_LIBERTAD\n",
      "COLE_CALENDARIO\n",
      "COLE_BILINGUE\n",
      "COLE_GENERO\n",
      "COLE_SEDE_PRINCIPAL\n",
      "ESTU_TIENEETNIA\n",
      "ESTU_TIPODOCUMENTO\n",
      "FAMI_TIENECONSOLAVIDEOJUEGOS\n",
      "COLE_AREA_UBICACION\n",
      "COLE_NATURALEZA\n",
      "FAMI_TIENEAUTOMOVIL\n",
      "FAMI_TIENELAVADORA\n",
      "FAMI_TIENESERVICIOTV\n",
      "FAMI_TIENEINTERNET\n",
      "FAMI_TIENEHORNOMICROOGAS\n",
      "ESTU_TIPOREMUNERACION\n",
      "FAMI_TIENEMOTOCICLETA\n",
      "ESTU_GENERO\n",
      "FAMI_TIENECOMPUTADOR\n",
      "FAMI_SITUACIONECONOMICA\n",
      "ESTU_HORASSEMANATRABAJA\n",
      "COLE_CARACTER\n",
      "FAMI_PERSONASHOGAR\n",
      "FAMI_NUMLIBROS\n",
      "FAMI_COMECARNEPESCADOHUEVO\n",
      "FAMI_CUARTOSHOGAR\n",
      "FAMI_COMECEREALFRUTOSLEGUMBRE\n",
      "FAMI_ESTRATOVIVIENDA\n",
      "FAMI_COMELECHEDERIVADOS\n",
      "ESTU_DEDICACIONLECTURADIARIA\n",
      "COLE_JORNADA\n",
      "FAMI_TRABAJOLABORMADRE\n",
      "ESTU_DEDICACIONINTERNET\n",
      "FAMI_EDUCACIONMADRE\n",
      "FAMI_EDUCACIONPADRE\n",
      "FAMI_TRABAJOLABORPADRE\n",
      "COLE_COD_DEPTO_UBICACION\n",
      "COLE_DEPTO_UBICACION\n",
      "ESTU_DEPTO_RESIDE\n",
      "ESTU_COD_RESIDE_DEPTO\n",
      "ESTU_DEPTO_PRESENTACION\n",
      "ESTU_COD_DEPTO_PRESENTACION\n",
      "ESTU_COD_MCPIO_PRESENTACION\n",
      "ESTU_MCPIO_PRESENTACION\n",
      "COLE_COD_MCPIO_UBICACION\n",
      "COLE_MCPIO_UBICACION\n",
      "ESTU_MCPIO_RESIDE\n",
      "ESTU_COD_RESIDE_MCPIO\n",
      "COLE_NOMBRE_ESTABLECIMIENTO\n",
      "COLE_COD_DANE_ESTABLECIMIENTO\n",
      "COLE_COD_DANE_SEDE\n",
      "COLE_NOMBRE_SEDE\n",
      "COLE_CODIGO_ICFES\n",
      "ESTU_FECHANACIMIENTO\n",
      "ESTU_CONSECUTIVO\n"
     ]
    }
   ],
   "source": [
    "feature_names = np.array(data.columns)\n",
    "\n",
    "for i in a:\n",
    "    print(feature_names[i[0]])\n"
   ],
   "metadata": {
    "collapsed": false,
    "pycharm": {
     "name": "#%%\n"
    }
   }
  },
  {
   "cell_type": "markdown",
   "source": [
    "Se ve claramente que el valor de periodo y de estu_estudiante son los menos significativos, por lo que se eliminan de la lista de features y se procede a realizar más iteraciones"
   ],
   "metadata": {
    "collapsed": false,
    "pycharm": {
     "name": "#%% md\n"
    }
   }
  },
  {
   "cell_type": "code",
   "execution_count": 247,
   "outputs": [
    {
     "name": "stdout",
     "output_type": "stream",
     "text": [
      "[ 1  2  3  4  6  8  9 10 11 12 13 14 15 16 17 18 19 20 21 22 23 24 25 26\n",
      " 27 28 29 30 31 32 33 34 35 36 37 38 39 40 41 42 43 44 45 46 47 48 49 50\n",
      " 51 52 53 54 55 56 57 58 59]\n"
     ]
    }
   ],
   "source": [
    "features = np.array(np.append(features[:4],features[4+1:]))\n",
    "features = np.array(np.append(features[:5],features[5+1:]))\n",
    "print(features)"
   ],
   "metadata": {
    "collapsed": false,
    "pycharm": {
     "name": "#%%\n"
    }
   }
  },
  {
   "cell_type": "code",
   "execution_count": 248,
   "outputs": [
    {
     "name": "stdout",
     "output_type": "stream",
     "text": [
      "[( 2, -16455.65632409) ( 8, -16455.65632409) (55, -16455.65632409)\n",
      " (43, -16298.98597961) (44, -15426.46762278) (41, -14584.42935689)\n",
      " (48, -13838.00777785) ( 9, -11497.65354453) ( 1,  -9898.62761712)\n",
      " (28,  -9033.11015225) (49,  -8829.85739624) (42,  -8664.95425184)\n",
      " (26,  -6662.44850685) (24,  -6510.80084094) (22,  -5548.962797  )\n",
      " (21,  -4141.26111307) (25,  -3805.28548493) (37,  -3790.82334779)\n",
      " (27,  -3533.18984347) ( 3,  -3527.28612068) (23,  -3489.52245089)\n",
      " (33,  -2135.05420301) (36,  -1092.91682816) (45,  -1048.06177439)\n",
      " (15,    188.1314676 ) (29,    620.41258781) (31,   1276.04085356)\n",
      " (16,   1462.78749094) (32,   1535.52847219) (14,   1670.45539669)\n",
      " (30,   1779.06009784) (34,   1984.43228543) (50,   2059.17484843)\n",
      " (20,   2948.61523864) (35,   3151.25123699) (18,   5040.21353042)\n",
      " (17,   5364.22519699) (19,   5985.76075153) (53,   7714.09481339)\n",
      " (54,   7714.09481339) (10,   7718.32495388) (11,   7718.32495388)\n",
      " (58,   7724.23768456) (59,   7724.23768456) (56,   8558.66094093)\n",
      " (57,   8558.66094093) (51,   8600.34346577) (52,   8600.34346577)\n",
      " (12,   8601.36837792) (13,   8601.36837792) (40,   8759.79873216)\n",
      " (39,   8761.60385878) (46,   8769.00625355) (47,   8769.00625355)\n",
      " (38,   8778.25880609) ( 4,   8820.65678636) ( 6,   8840.93876255)]\n",
      "ESTU_NACIONALIDAD\n",
      "ESTU_PAIS_RESIDE\n",
      "ESTU_PRIVADO_LIBERTAD\n",
      "COLE_CALENDARIO\n",
      "COLE_BILINGUE\n",
      "COLE_GENERO\n",
      "COLE_SEDE_PRINCIPAL\n",
      "ESTU_TIENEETNIA\n",
      "ESTU_TIPODOCUMENTO\n",
      "FAMI_TIENECONSOLAVIDEOJUEGOS\n",
      "COLE_AREA_UBICACION\n",
      "COLE_NATURALEZA\n",
      "FAMI_TIENEAUTOMOVIL\n",
      "FAMI_TIENELAVADORA\n",
      "FAMI_TIENESERVICIOTV\n",
      "FAMI_TIENEINTERNET\n",
      "FAMI_TIENEHORNOMICROOGAS\n",
      "ESTU_TIPOREMUNERACION\n",
      "FAMI_TIENEMOTOCICLETA\n",
      "ESTU_GENERO\n",
      "FAMI_TIENECOMPUTADOR\n",
      "FAMI_SITUACIONECONOMICA\n",
      "ESTU_HORASSEMANATRABAJA\n",
      "COLE_CARACTER\n",
      "FAMI_PERSONASHOGAR\n",
      "FAMI_NUMLIBROS\n",
      "FAMI_COMECARNEPESCADOHUEVO\n",
      "FAMI_CUARTOSHOGAR\n",
      "FAMI_COMECEREALFRUTOSLEGUMBRE\n",
      "FAMI_ESTRATOVIVIENDA\n",
      "FAMI_COMELECHEDERIVADOS\n",
      "ESTU_DEDICACIONLECTURADIARIA\n",
      "COLE_JORNADA\n",
      "FAMI_TRABAJOLABORMADRE\n",
      "ESTU_DEDICACIONINTERNET\n",
      "FAMI_EDUCACIONMADRE\n",
      "FAMI_EDUCACIONPADRE\n",
      "FAMI_TRABAJOLABORPADRE\n",
      "COLE_COD_DEPTO_UBICACION\n",
      "COLE_DEPTO_UBICACION\n",
      "ESTU_DEPTO_RESIDE\n",
      "ESTU_COD_RESIDE_DEPTO\n",
      "ESTU_DEPTO_PRESENTACION\n",
      "ESTU_COD_DEPTO_PRESENTACION\n",
      "ESTU_COD_MCPIO_PRESENTACION\n",
      "ESTU_MCPIO_PRESENTACION\n",
      "COLE_COD_MCPIO_UBICACION\n",
      "COLE_MCPIO_UBICACION\n",
      "ESTU_MCPIO_RESIDE\n",
      "ESTU_COD_RESIDE_MCPIO\n",
      "COLE_NOMBRE_ESTABLECIMIENTO\n",
      "COLE_COD_DANE_ESTABLECIMIENTO\n",
      "COLE_COD_DANE_SEDE\n",
      "COLE_NOMBRE_SEDE\n",
      "COLE_CODIGO_ICFES\n",
      "ESTU_FECHANACIMIENTO\n",
      "ESTU_CONSECUTIVO\n"
     ]
    }
   ],
   "source": [
    "total = ent(simMatrix(sub_data[:,features]))\n",
    "list = []\n",
    "for i in range(len(features)):\n",
    "    new = np.array(np.append(features[:i],features[i+1:]))\n",
    "    list.append((features[i], total - ent(simMatrix(sub_data[:,new]))))\n",
    "\n",
    "a = np.array(list,dtype=dtype)\n",
    "a = np.sort(a, order='value')\n",
    "\n",
    "print(a)\n",
    "\n",
    "for i in a:\n",
    "    print(feature_names[i[0]])\n"
   ],
   "metadata": {
    "collapsed": false,
    "pycharm": {
     "name": "#%%\n"
    }
   }
  },
  {
   "cell_type": "markdown",
   "source": [
    "Ahora retirar Estu_privado_de_la_libertad"
   ],
   "metadata": {
    "collapsed": false,
    "pycharm": {
     "name": "#%% md\n"
    }
   }
  },
  {
   "cell_type": "code",
   "execution_count": 249,
   "outputs": [
    {
     "name": "stdout",
     "output_type": "stream",
     "text": [
      "[ 1  3  4  6  8  9 10 11 12 13 14 15 16 17 18 19 20 21 22 23 24 25 26 27\n",
      " 28 29 30 31 32 33 34 35 36 37 38 39 40 41 42 43 44 45 46 47 48 49 50 51\n",
      " 52 53 54 55 56 57 58 59]\n"
     ]
    }
   ],
   "source": [
    "for i in range(len(features)-1):\n",
    "    if features[i] == a[0][0]:\n",
    "        features = np.delete(features,[i])\n",
    "print(features)"
   ],
   "metadata": {
    "collapsed": false,
    "pycharm": {
     "name": "#%%\n"
    }
   }
  },
  {
   "cell_type": "code",
   "execution_count": 250,
   "outputs": [],
   "source": [
    "def delf(features):\n",
    "    total = ent(simMatrix(sub_data[:,features]))\n",
    "    list = []\n",
    "    for i in range(len(features)):\n",
    "        new = np.array(np.append(features[:i],features[i+1:]))\n",
    "        list.append((features[i], total - ent(simMatrix(sub_data[:,new]))))\n",
    "\n",
    "    a = np.array(list,dtype=dtype)\n",
    "    a = np.sort(a, order='value')\n",
    "\n",
    "#    for i in a:\n",
    "#        print(feature_names[i[0]])\n",
    "\n",
    "    print(\"******** Deleting \",feature_names[a[0][0]])\n",
    "    for i in range(len(features)-1):\n",
    "        if features[i] == a[0][0]:\n",
    "            return np.delete(features,[i])"
   ],
   "metadata": {
    "collapsed": false,
    "pycharm": {
     "name": "#%%\n"
    }
   }
  },
  {
   "cell_type": "code",
   "execution_count": 251,
   "outputs": [
    {
     "name": "stdout",
     "output_type": "stream",
     "text": [
      "******** Deleting  ESTU_PAIS_RESIDE\n",
      "[ 1  3  4  6  9 10 11 12 13 14 15 16 17 18 19 20 21 22 23 24 25 26 27 28\n",
      " 29 30 31 32 33 34 35 36 37 38 39 40 41 42 43 44 45 46 47 48 49 50 51 52\n",
      " 53 54 55 56 57 58 59]\n"
     ]
    }
   ],
   "source": [
    "features = delf(features)\n",
    "print(features)"
   ],
   "metadata": {
    "collapsed": false,
    "pycharm": {
     "name": "#%%\n"
    }
   }
  },
  {
   "cell_type": "markdown",
   "source": [
    "Ahora se elemina Cole_calendario\n",
    "A partir de aquí se implemente in ciclo para agilizar el proceso y empezaremos por sacar otras 10 carácterísticas, desde ahí se decidirá si es prudente sacar más o no"
   ],
   "metadata": {
    "collapsed": false,
    "pycharm": {
     "name": "#%% md\n"
    }
   }
  },
  {
   "cell_type": "code",
   "execution_count": 252,
   "outputs": [
    {
     "name": "stdout",
     "output_type": "stream",
     "text": [
      "******** Deleting  ESTU_PRIVADO_LIBERTAD\n",
      "******** Deleting  COLE_CALENDARIO\n",
      "******** Deleting  COLE_BILINGUE\n",
      "******** Deleting  COLE_GENERO\n",
      "******** Deleting  COLE_SEDE_PRINCIPAL\n",
      "******** Deleting  ESTU_TIENEETNIA\n",
      "******** Deleting  ESTU_TIPODOCUMENTO\n",
      "******** Deleting  COLE_AREA_UBICACION\n",
      "******** Deleting  FAMI_TIENECONSOLAVIDEOJUEGOS\n",
      "******** Deleting  COLE_NATURALEZA\n",
      "******** Deleting  FAMI_TIENEAUTOMOVIL\n",
      "******** Deleting  FAMI_TIENELAVADORA\n",
      "******** Deleting  FAMI_TIENESERVICIOTV\n",
      "******** Deleting  FAMI_TIENEINTERNET\n",
      "******** Deleting  FAMI_TIENEHORNOMICROOGAS\n"
     ]
    }
   ],
   "source": [
    "for i in range(15):\n",
    "    features = delf(features)\n",
    "\n"
   ],
   "metadata": {
    "collapsed": false,
    "pycharm": {
     "name": "#%%\n"
    }
   }
  },
  {
   "cell_type": "code",
   "execution_count": 253,
   "outputs": [
    {
     "name": "stdout",
     "output_type": "stream",
     "text": [
      "ESTU_GENERO\n",
      "ESTU_FECHANACIMIENTO\n",
      "ESTU_CONSECUTIVO\n",
      "ESTU_DEPTO_RESIDE\n",
      "ESTU_COD_RESIDE_DEPTO\n",
      "ESTU_MCPIO_RESIDE\n",
      "ESTU_COD_RESIDE_MCPIO\n",
      "FAMI_ESTRATOVIVIENDA\n",
      "FAMI_PERSONASHOGAR\n",
      "FAMI_CUARTOSHOGAR\n",
      "FAMI_EDUCACIONPADRE\n",
      "FAMI_EDUCACIONMADRE\n",
      "FAMI_TRABAJOLABORPADRE\n",
      "FAMI_TRABAJOLABORMADRE\n",
      "FAMI_TIENECOMPUTADOR\n",
      "FAMI_TIENEMOTOCICLETA\n",
      "FAMI_NUMLIBROS\n",
      "FAMI_COMELECHEDERIVADOS\n",
      "FAMI_COMECARNEPESCADOHUEVO\n",
      "FAMI_COMECEREALFRUTOSLEGUMBRE\n",
      "FAMI_SITUACIONECONOMICA\n",
      "ESTU_DEDICACIONLECTURADIARIA\n",
      "ESTU_DEDICACIONINTERNET\n",
      "ESTU_HORASSEMANATRABAJA\n",
      "ESTU_TIPOREMUNERACION\n",
      "COLE_CODIGO_ICFES\n",
      "COLE_COD_DANE_ESTABLECIMIENTO\n",
      "COLE_NOMBRE_ESTABLECIMIENTO\n",
      "COLE_CARACTER\n",
      "COLE_COD_DANE_SEDE\n",
      "COLE_NOMBRE_SEDE\n",
      "COLE_JORNADA\n",
      "COLE_COD_MCPIO_UBICACION\n",
      "COLE_MCPIO_UBICACION\n",
      "COLE_COD_DEPTO_UBICACION\n",
      "COLE_DEPTO_UBICACION\n",
      "ESTU_COD_MCPIO_PRESENTACION\n",
      "ESTU_MCPIO_PRESENTACION\n",
      "ESTU_DEPTO_PRESENTACION\n",
      "ESTU_COD_DEPTO_PRESENTACION\n"
     ]
    }
   ],
   "source": [
    "for i in features:\n",
    "    print(feature_names[i])"
   ],
   "metadata": {
    "collapsed": false,
    "pycharm": {
     "name": "#%%\n"
    }
   }
  },
  {
   "cell_type": "code",
   "execution_count": 254,
   "outputs": [
    {
     "name": "stdout",
     "output_type": "stream",
     "text": [
      "******** Deleting  FAMI_TIENEMOTOCICLETA\n",
      "******** Deleting  FAMI_TIENECOMPUTADOR\n",
      "******** Deleting  ESTU_TIPOREMUNERACION\n",
      "******** Deleting  ESTU_GENERO\n",
      "******** Deleting  FAMI_SITUACIONECONOMICA\n"
     ]
    }
   ],
   "source": [
    "for i in range(5):\n",
    "    features = delf(features)"
   ],
   "metadata": {
    "collapsed": false,
    "pycharm": {
     "name": "#%%\n"
    }
   }
  },
  {
   "cell_type": "code",
   "execution_count": 255,
   "outputs": [
    {
     "name": "stdout",
     "output_type": "stream",
     "text": [
      "ESTU_FECHANACIMIENTO\n",
      "ESTU_CONSECUTIVO\n",
      "ESTU_DEPTO_RESIDE\n",
      "ESTU_COD_RESIDE_DEPTO\n",
      "ESTU_MCPIO_RESIDE\n",
      "ESTU_COD_RESIDE_MCPIO\n",
      "FAMI_ESTRATOVIVIENDA\n",
      "FAMI_PERSONASHOGAR\n",
      "FAMI_CUARTOSHOGAR\n",
      "FAMI_EDUCACIONPADRE\n",
      "FAMI_EDUCACIONMADRE\n",
      "FAMI_TRABAJOLABORPADRE\n",
      "FAMI_TRABAJOLABORMADRE\n",
      "FAMI_NUMLIBROS\n",
      "FAMI_COMELECHEDERIVADOS\n",
      "FAMI_COMECARNEPESCADOHUEVO\n",
      "FAMI_COMECEREALFRUTOSLEGUMBRE\n",
      "ESTU_DEDICACIONLECTURADIARIA\n",
      "ESTU_DEDICACIONINTERNET\n",
      "ESTU_HORASSEMANATRABAJA\n",
      "COLE_CODIGO_ICFES\n",
      "COLE_COD_DANE_ESTABLECIMIENTO\n",
      "COLE_NOMBRE_ESTABLECIMIENTO\n",
      "COLE_CARACTER\n",
      "COLE_COD_DANE_SEDE\n",
      "COLE_NOMBRE_SEDE\n",
      "COLE_JORNADA\n",
      "COLE_COD_MCPIO_UBICACION\n",
      "COLE_MCPIO_UBICACION\n",
      "COLE_COD_DEPTO_UBICACION\n",
      "COLE_DEPTO_UBICACION\n",
      "ESTU_COD_MCPIO_PRESENTACION\n",
      "ESTU_MCPIO_PRESENTACION\n",
      "ESTU_DEPTO_PRESENTACION\n",
      "ESTU_COD_DEPTO_PRESENTACION\n"
     ]
    }
   ],
   "source": [
    "for i in features:\n",
    "    print(feature_names[i])\n"
   ],
   "metadata": {
    "collapsed": false,
    "pycharm": {
     "name": "#%%\n"
    }
   }
  },
  {
   "cell_type": "code",
   "execution_count": null,
   "outputs": [],
   "source": [],
   "metadata": {
    "collapsed": false,
    "pycharm": {
     "name": "#%%\n"
    }
   }
  }
 ],
 "metadata": {
  "kernelspec": {
   "display_name": "Python 3",
   "language": "python",
   "name": "python3"
  },
  "language_info": {
   "codemirror_mode": {
    "name": "ipython",
    "version": 2
   },
   "file_extension": ".py",
   "mimetype": "text/x-python",
   "name": "python",
   "nbconvert_exporter": "python",
   "pygments_lexer": "ipython2",
   "version": "2.7.6"
  }
 },
 "nbformat": 4,
 "nbformat_minor": 0
}